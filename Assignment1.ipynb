{
  "nbformat": 4,
  "nbformat_minor": 0,
  "metadata": {
    "colab": {
      "name": "Untitled38.ipynb",
      "provenance": [],
      "authorship_tag": "ABX9TyOHi3pH0hAvYBO3/h1lqILu",
      "include_colab_link": true
    },
    "kernelspec": {
      "name": "python3",
      "display_name": "Python 3"
    }
  },
  "cells": [
    {
      "cell_type": "markdown",
      "metadata": {
        "id": "view-in-github",
        "colab_type": "text"
      },
      "source": [
        "<a href=\"https://colab.research.google.com/github/mmaruthi/IITJML/blob/main/Assignment1.ipynb\" target=\"_parent\"><img src=\"https://colab.research.google.com/assets/colab-badge.svg\" alt=\"Open In Colab\"/></a>"
      ]
    },
    {
      "cell_type": "code",
      "metadata": {
        "colab": {
          "resources": {
            "http://localhost:8080/nbextensions/google.colab/files.js": {
              "data": "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",
              "ok": true,
              "headers": [
                [
                  "content-type",
                  "application/javascript"
                ]
              ],
              "status": 200,
              "status_text": ""
            }
          },
          "base_uri": "https://localhost:8080/",
          "height": 73
        },
        "id": "grIFOHmbGVuW",
        "outputId": "378b7f54-8519-4b5d-f77f-f29d2d014edc"
      },
      "source": [
        "#Step to upload the csv data given in Assignment\r\n",
        "from google.colab import files \r\n",
        "uploaded = files.upload()"
      ],
      "execution_count": null,
      "outputs": [
        {
          "output_type": "display_data",
          "data": {
            "text/html": [
              "\n",
              "     <input type=\"file\" id=\"files-254eefbc-8c88-40f2-846f-b4f47249d288\" name=\"files[]\" multiple disabled\n",
              "        style=\"border:none\" />\n",
              "     <output id=\"result-254eefbc-8c88-40f2-846f-b4f47249d288\">\n",
              "      Upload widget is only available when the cell has been executed in the\n",
              "      current browser session. Please rerun this cell to enable.\n",
              "      </output>\n",
              "      <script src=\"/nbextensions/google.colab/files.js\"></script> "
            ],
            "text/plain": [
              "<IPython.core.display.HTML object>"
            ]
          },
          "metadata": {
            "tags": []
          }
        },
        {
          "output_type": "stream",
          "text": [
            "Saving dataset - Sheet1.csv to dataset - Sheet1.csv\n"
          ],
          "name": "stdout"
        }
      ]
    },
    {
      "cell_type": "code",
      "metadata": {
        "id": "BgqpVoB-GtAN"
      },
      "source": [
        "#Import the basic libraries \r\n",
        "import numpy as np \r\n",
        "import pandas as pd \r\n",
        "\r\n",
        "#create a data frame readinf this file \r\n",
        "df=pd.read_csv(\"dataset - Sheet1.csv\")"
      ],
      "execution_count": null,
      "outputs": []
    },
    {
      "cell_type": "code",
      "metadata": {
        "colab": {
          "base_uri": "https://localhost:8080/"
        },
        "id": "gyk1sZgLHIaU",
        "outputId": "5901a531-93f8-4a33-9aa3-01471651e311"
      },
      "source": [
        "#check the shape of the dataset \r\n",
        "df.shape"
      ],
      "execution_count": null,
      "outputs": [
        {
          "output_type": "execute_result",
          "data": {
            "text/plain": [
              "(160, 2)"
            ]
          },
          "metadata": {
            "tags": []
          },
          "execution_count": 5
        }
      ]
    },
    {
      "cell_type": "code",
      "metadata": {
        "colab": {
          "base_uri": "https://localhost:8080/",
          "height": 202
        },
        "id": "vKuH4CRXHWdO",
        "outputId": "877da159-95f8-4902-bce7-9a6a78a838b8"
      },
      "source": [
        "#See couple of rows to get an idea\r\n",
        "df.head()"
      ],
      "execution_count": null,
      "outputs": [
        {
          "output_type": "execute_result",
          "data": {
            "text/html": [
              "<div>\n",
              "<style scoped>\n",
              "    .dataframe tbody tr th:only-of-type {\n",
              "        vertical-align: middle;\n",
              "    }\n",
              "\n",
              "    .dataframe tbody tr th {\n",
              "        vertical-align: top;\n",
              "    }\n",
              "\n",
              "    .dataframe thead th {\n",
              "        text-align: right;\n",
              "    }\n",
              "</style>\n",
              "<table border=\"1\" class=\"dataframe\">\n",
              "  <thead>\n",
              "    <tr style=\"text-align: right;\">\n",
              "      <th></th>\n",
              "      <th>Predicted Class</th>\n",
              "      <th>Actual Class</th>\n",
              "    </tr>\n",
              "  </thead>\n",
              "  <tbody>\n",
              "    <tr>\n",
              "      <th>0</th>\n",
              "      <td>0</td>\n",
              "      <td>0</td>\n",
              "    </tr>\n",
              "    <tr>\n",
              "      <th>1</th>\n",
              "      <td>0</td>\n",
              "      <td>0</td>\n",
              "    </tr>\n",
              "    <tr>\n",
              "      <th>2</th>\n",
              "      <td>1</td>\n",
              "      <td>0</td>\n",
              "    </tr>\n",
              "    <tr>\n",
              "      <th>3</th>\n",
              "      <td>0</td>\n",
              "      <td>0</td>\n",
              "    </tr>\n",
              "    <tr>\n",
              "      <th>4</th>\n",
              "      <td>0</td>\n",
              "      <td>0</td>\n",
              "    </tr>\n",
              "  </tbody>\n",
              "</table>\n",
              "</div>"
            ],
            "text/plain": [
              "   Predicted Class  Actual Class\n",
              "0                0             0\n",
              "1                0             0\n",
              "2                1             0\n",
              "3                0             0\n",
              "4                0             0"
            ]
          },
          "metadata": {
            "tags": []
          },
          "execution_count": 6
        }
      ]
    },
    {
      "cell_type": "code",
      "metadata": {
        "colab": {
          "base_uri": "https://localhost:8080/"
        },
        "id": "x7qZLm9PHr2C",
        "outputId": "a5ad91da-0614-4668-831e-687066c036ea"
      },
      "source": [
        "#let us see the column names\r\n",
        "df.info()"
      ],
      "execution_count": null,
      "outputs": [
        {
          "output_type": "stream",
          "text": [
            "<class 'pandas.core.frame.DataFrame'>\n",
            "RangeIndex: 160 entries, 0 to 159\n",
            "Data columns (total 2 columns):\n",
            " #   Column           Non-Null Count  Dtype\n",
            "---  ------           --------------  -----\n",
            " 0   Predicted Class  160 non-null    int64\n",
            " 1   Actual Class     160 non-null    int64\n",
            "dtypes: int64(2)\n",
            "memory usage: 2.6 KB\n"
          ],
          "name": "stdout"
        }
      ]
    },
    {
      "cell_type": "code",
      "metadata": {
        "colab": {
          "base_uri": "https://localhost:8080/"
        },
        "id": "qtuXHTV1H71n",
        "outputId": "05fd9492-bc34-42b5-95f3-b7a390769116"
      },
      "source": [
        "# Let us see how many multiple classes are present in this \r\n",
        "classes = df['Predicted Class'].unique()\r\n",
        "classes"
      ],
      "execution_count": null,
      "outputs": [
        {
          "output_type": "execute_result",
          "data": {
            "text/plain": [
              "array([0, 1, 2, 3])"
            ]
          },
          "metadata": {
            "tags": []
          },
          "execution_count": 8
        }
      ]
    },
    {
      "cell_type": "code",
      "metadata": {
        "colab": {
          "base_uri": "https://localhost:8080/",
          "height": 202
        },
        "id": "UQw6TgJhIXWZ",
        "outputId": "65939808-f5ec-47de-bf89-1c0d306720a4"
      },
      "source": [
        "#True Positive -- No. of predictions equal to the actual values\r\n",
        "Truepositive = df[df['Actual Class'] == df['Predicted Class']]\r\n",
        "Truepositive.head()"
      ],
      "execution_count": null,
      "outputs": [
        {
          "output_type": "execute_result",
          "data": {
            "text/html": [
              "<div>\n",
              "<style scoped>\n",
              "    .dataframe tbody tr th:only-of-type {\n",
              "        vertical-align: middle;\n",
              "    }\n",
              "\n",
              "    .dataframe tbody tr th {\n",
              "        vertical-align: top;\n",
              "    }\n",
              "\n",
              "    .dataframe thead th {\n",
              "        text-align: right;\n",
              "    }\n",
              "</style>\n",
              "<table border=\"1\" class=\"dataframe\">\n",
              "  <thead>\n",
              "    <tr style=\"text-align: right;\">\n",
              "      <th></th>\n",
              "      <th>Predicted Class</th>\n",
              "      <th>Actual Class</th>\n",
              "    </tr>\n",
              "  </thead>\n",
              "  <tbody>\n",
              "    <tr>\n",
              "      <th>0</th>\n",
              "      <td>0</td>\n",
              "      <td>0</td>\n",
              "    </tr>\n",
              "    <tr>\n",
              "      <th>1</th>\n",
              "      <td>0</td>\n",
              "      <td>0</td>\n",
              "    </tr>\n",
              "    <tr>\n",
              "      <th>3</th>\n",
              "      <td>0</td>\n",
              "      <td>0</td>\n",
              "    </tr>\n",
              "    <tr>\n",
              "      <th>4</th>\n",
              "      <td>0</td>\n",
              "      <td>0</td>\n",
              "    </tr>\n",
              "    <tr>\n",
              "      <th>8</th>\n",
              "      <td>0</td>\n",
              "      <td>0</td>\n",
              "    </tr>\n",
              "  </tbody>\n",
              "</table>\n",
              "</div>"
            ],
            "text/plain": [
              "   Predicted Class  Actual Class\n",
              "0                0             0\n",
              "1                0             0\n",
              "3                0             0\n",
              "4                0             0\n",
              "8                0             0"
            ]
          },
          "metadata": {
            "tags": []
          },
          "execution_count": 9
        }
      ]
    },
    {
      "cell_type": "code",
      "metadata": {
        "colab": {
          "base_uri": "https://localhost:8080/"
        },
        "id": "Rh5jSZnrIuhq",
        "outputId": "a210ccb9-fb38-4f9c-fa44-468ec207f371"
      },
      "source": [
        "#let us see how many are correctly predicted \r\n",
        "Truepositive.shape"
      ],
      "execution_count": null,
      "outputs": [
        {
          "output_type": "execute_result",
          "data": {
            "text/plain": [
              "(121, 2)"
            ]
          },
          "metadata": {
            "tags": []
          },
          "execution_count": 12
        }
      ]
    },
    {
      "cell_type": "markdown",
      "metadata": {
        "id": "ZlXcIPwcJw1e"
      },
      "source": [
        "**2.a**"
      ]
    },
    {
      "cell_type": "code",
      "metadata": {
        "colab": {
          "base_uri": "https://localhost:8080/"
        },
        "id": "eYJScA6JJQKB",
        "outputId": "0b5a5bda-aa4e-407b-94af-9c9a62ec7a22"
      },
      "source": [
        "#Accuracy = Correct Predictons / Total Predictions (or) [True Positive + True Negative] / Total Predictions\r\n",
        "Accuracy = 121/160\r\n",
        "Accuracy"
      ],
      "execution_count": null,
      "outputs": [
        {
          "output_type": "execute_result",
          "data": {
            "text/plain": [
              "0.75625"
            ]
          },
          "metadata": {
            "tags": []
          },
          "execution_count": 13
        }
      ]
    },
    {
      "cell_type": "code",
      "metadata": {
        "colab": {
          "base_uri": "https://localhost:8080/"
        },
        "id": "PkrHTknJPYfl",
        "outputId": "4f813017-28b6-4382-fad5-04181a27439b"
      },
      "source": [
        "#Let's calculate the True positive for each class \r\n",
        "\r\n",
        "tp0 = df[(df['Actual Class'] ==0) & (df['Predicted Class'] ==0)]\r\n",
        "tp1 = df[(df['Actual Class'] ==1) & (df['Predicted Class'] ==1)]\r\n",
        "tp2 = df[(df['Actual Class'] ==2) & (df['Predicted Class'] ==2)]\r\n",
        "tp3 = df[(df['Actual Class'] ==3) & (df['Predicted Class'] ==3)]\r\n",
        "\r\n",
        "print(\"True positive for class 0 =\", tp0.shape)\r\n",
        "print(\"True positive for class 1 =\", tp1.shape)\r\n",
        "print(\"True positive for class 2 =\", tp2.shape)\r\n",
        "print(\"True positive for class 3 =\", tp3.shape)"
      ],
      "execution_count": null,
      "outputs": [
        {
          "output_type": "stream",
          "text": [
            "True positive for class 0 = (33, 2)\n",
            "True positive for class 1 = (32, 2)\n",
            "True positive for class 2 = (29, 2)\n",
            "True positive for class 3 = (27, 2)\n"
          ],
          "name": "stdout"
        }
      ]
    },
    {
      "cell_type": "code",
      "metadata": {
        "colab": {
          "base_uri": "https://localhost:8080/"
        },
        "id": "NC_BC-E6R5pZ",
        "outputId": "8f1be31c-6f5a-478a-8021-1350f4197375"
      },
      "source": [
        "# Class wise accuracy \r\n",
        "# to get class wise accuracy , let's see how many does each class belong to with actual class values \r\n",
        "tp0a = df[(df['Actual Class'] ==0)]\r\n",
        "tp1a = df[(df['Actual Class'] ==1)]\r\n",
        "tp2a = df[(df['Actual Class'] ==2)]\r\n",
        "tp3a = df[(df['Actual Class'] ==3)]\r\n",
        "\r\n",
        "print (\"Actual Entries in class 0\" , tp0a.shape)\r\n",
        "print (\"Actual Entries in class 1\" , tp1a.shape)\r\n",
        "print (\"Actual Entries in class 2\" , tp2a.shape)\r\n",
        "print (\"Actual Entries in class 3\" , tp3a.shape)"
      ],
      "execution_count": null,
      "outputs": [
        {
          "output_type": "stream",
          "text": [
            "Actual Entries in class 0 (49, 2)\n",
            "Actual Entries in class 1 (36, 2)\n",
            "Actual Entries in class 2 (40, 2)\n",
            "Actual Entries in class 3 (35, 2)\n"
          ],
          "name": "stdout"
        }
      ]
    },
    {
      "cell_type": "code",
      "metadata": {
        "colab": {
          "base_uri": "https://localhost:8080/"
        },
        "id": "kTxxQ9RwTX7p",
        "outputId": "194176ec-188e-4c34-8c5e-77d560d742ed"
      },
      "source": [
        "#To get class wise accuracy \r\n",
        "acc0 = 33/49\r\n",
        "acc1 = 32/36\r\n",
        "acc2 = 29/40\r\n",
        "acc3 = 27/35\r\n",
        "\r\n",
        "print (\"class 0 accuracy\" , acc0)\r\n",
        "print (\"class 1 accuracy\" , acc1)\r\n",
        "print (\"class 2 accuracy\" , acc2)\r\n",
        "print (\"class 3 accuracy\" , acc3)"
      ],
      "execution_count": null,
      "outputs": [
        {
          "output_type": "stream",
          "text": [
            "class 0 accuracy 0.673469387755102\n",
            "class 1 accuracy 0.8888888888888888\n",
            "class 2 accuracy 0.725\n",
            "class 3 accuracy 0.7714285714285715\n"
          ],
          "name": "stdout"
        }
      ]
    },
    {
      "cell_type": "markdown",
      "metadata": {
        "id": "USTWYkK7UiJb"
      },
      "source": [
        "**2.b - Confusion matrix**"
      ]
    },
    {
      "cell_type": "code",
      "metadata": {
        "colab": {
          "base_uri": "https://localhost:8080/"
        },
        "id": "guCt2witUmYR",
        "outputId": "33a83672-3bd3-468a-fdf8-62975649b07e"
      },
      "source": [
        "# To Draw confusion matrix lets calculate the misclassifications \r\n",
        "\r\n",
        "# actual class 0 predicted as class 1,2,3\r\n",
        "tp01=df[(df['Actual Class'] ==0) & (df['Predicted Class']==1)]\r\n",
        "print(tp01.shape)\r\n",
        "tp02=df[(df['Actual Class'] ==0) & (df['Predicted Class']==2)]\r\n",
        "print(tp02.shape)\r\n",
        "tp03=df[(df['Actual Class'] ==0) & (df['Predicted Class']==3)]\r\n",
        "print(tp03.shape)"
      ],
      "execution_count": null,
      "outputs": [
        {
          "output_type": "stream",
          "text": [
            "(8, 2)\n",
            "(4, 2)\n",
            "(4, 2)\n"
          ],
          "name": "stdout"
        }
      ]
    },
    {
      "cell_type": "code",
      "metadata": {
        "colab": {
          "base_uri": "https://localhost:8080/"
        },
        "id": "yWdfSAdhUy57",
        "outputId": "1e161491-b129-4b33-b99c-f72516f59721"
      },
      "source": [
        "\r\n",
        "# actual class 1 predicted as class 0,2,3\r\n",
        "tp10=df[(df['Actual Class'] ==1) & (df['Predicted Class']==0)]\r\n",
        "print(tp10.shape)\r\n",
        "tp12=df[(df['Actual Class'] ==1) & (df['Predicted Class']==2)]\r\n",
        "print(tp12.shape)\r\n",
        "tp13=df[(df['Actual Class'] ==1) & (df['Predicted Class']==3)]\r\n",
        "print(tp13.shape)"
      ],
      "execution_count": null,
      "outputs": [
        {
          "output_type": "stream",
          "text": [
            "(1, 2)\n",
            "(3, 2)\n",
            "(0, 2)\n"
          ],
          "name": "stdout"
        }
      ]
    },
    {
      "cell_type": "code",
      "metadata": {
        "colab": {
          "base_uri": "https://localhost:8080/"
        },
        "id": "cjj4zzgsU7_C",
        "outputId": "71a349bc-a9bc-4137-d921-e8ac7a6ed028"
      },
      "source": [
        "\r\n",
        "# actual class 2 predicted as class 0,1,3\r\n",
        "tp20=df[(df['Actual Class'] ==2) & (df['Predicted Class']==0)]\r\n",
        "print(tp20.shape)\r\n",
        "tp22=df[(df['Actual Class'] ==2) & (df['Predicted Class']==1)]\r\n",
        "print(tp22.shape)\r\n",
        "tp23=df[(df['Actual Class'] ==2) & (df['Predicted Class']==3)]\r\n",
        "print(tp23.shape)"
      ],
      "execution_count": null,
      "outputs": [
        {
          "output_type": "stream",
          "text": [
            "(3, 2)\n",
            "(2, 2)\n",
            "(6, 2)\n"
          ],
          "name": "stdout"
        }
      ]
    },
    {
      "cell_type": "code",
      "metadata": {
        "colab": {
          "base_uri": "https://localhost:8080/"
        },
        "id": "XGBxpmw-VTbl",
        "outputId": "23a25d39-0558-4fd0-842d-762ce6648fe0"
      },
      "source": [
        "# actual class 3 predicted as class 0,1,2\r\n",
        "tp30=df[(df['Actual Class'] ==3) & (df['Predicted Class']==0)]\r\n",
        "print(tp30.shape)\r\n",
        "tp31=df[(df['Actual Class'] ==3) & (df['Predicted Class']==1)]\r\n",
        "print(tp31.shape)\r\n",
        "tp32=df[(df['Actual Class'] ==3) & (df['Predicted Class']==2)]\r\n",
        "print(tp32.shape)"
      ],
      "execution_count": null,
      "outputs": [
        {
          "output_type": "stream",
          "text": [
            "(2, 2)\n",
            "(3, 2)\n",
            "(3, 2)\n"
          ],
          "name": "stdout"
        }
      ]
    },
    {
      "cell_type": "markdown",
      "metadata": {
        "id": "q6QzLnEqVhfY"
      },
      "source": [
        "SO Now the confusion matrix is as below :\r\n",
        "Predicted "
      ]
    },
    {
      "cell_type": "code",
      "metadata": {
        "id": "ceb0_tjWXaWK"
      },
      "source": [
        "predicted\r\n",
        "               0   1   2   3\r\n",
        "          \r\n",
        "           0   33  8   4   4\r\n",
        "           \r\n",
        "           1   1   32  3   0\r\n",
        " actual          \r\n",
        "           2   3   2   29  6\r\n",
        "           \r\n",
        "           3   2   3   3   27"
      ],
      "execution_count": null,
      "outputs": []
    },
    {
      "cell_type": "markdown",
      "metadata": {
        "id": "OVwNXuZzVxCF"
      },
      "source": [
        "2.**c** **bold text**\r\n",
        "\r\n",
        "Class 0"
      ]
    },
    {
      "cell_type": "code",
      "metadata": {
        "id": "0tbtQJz8V_Ze"
      },
      "source": [
        "predicted\r\n",
        "               0   1   2   3\r\n",
        "          \r\n",
        "           0   33  8   4   4\r\n",
        "           \r\n",
        "           1   1   32  3   0\r\n",
        " actual          \r\n",
        "           2   3   2   29  6\r\n",
        "           \r\n",
        "           3   2   3   3   27"
      ],
      "execution_count": null,
      "outputs": []
    },
    {
      "cell_type": "code",
      "metadata": {
        "id": "2RUBvdlhWAS2"
      },
      "source": [
        "tp0=33\r\n",
        "tn0=32+3+2+3+29+6+3+27\r\n",
        "fp0=1+3+2\r\n",
        "fn0=8+4+4"
      ],
      "execution_count": null,
      "outputs": []
    },
    {
      "cell_type": "code",
      "metadata": {
        "colab": {
          "base_uri": "https://localhost:8080/"
        },
        "id": "KTOVstVPWEVs",
        "outputId": "ee86d30e-07ef-4f92-faaa-5d482f28d8e5"
      },
      "source": [
        "# precision and recall of class 0\r\n",
        "precision0=tp0/(tp0+fp0)\r\n",
        "print(precision0)\r\n",
        "recall0=tp0/(tp0+fn0)\r\n",
        "print(recall0)"
      ],
      "execution_count": null,
      "outputs": [
        {
          "output_type": "stream",
          "text": [
            "0.8461538461538461\n",
            "0.673469387755102\n"
          ],
          "name": "stdout"
        }
      ]
    },
    {
      "cell_type": "markdown",
      "metadata": {
        "id": "eS5LvPlzWn4N"
      },
      "source": [
        "Class **1**"
      ]
    },
    {
      "cell_type": "code",
      "metadata": {
        "id": "eXs03FC9Wp6Y"
      },
      "source": [
        "predicted\r\n",
        "               0   1   2   3\r\n",
        "          \r\n",
        "           0   33  8   4   4\r\n",
        "           \r\n",
        "           1   1   32  3   0\r\n",
        " actual          \r\n",
        "           2   3   2   29  6\r\n",
        "           \r\n",
        "           3   2   3   3   27"
      ],
      "execution_count": null,
      "outputs": []
    },
    {
      "cell_type": "code",
      "metadata": {
        "id": "4n308PHxWtek"
      },
      "source": [
        "tp1=32\r\n",
        "tn1=33+4+4+3+2+29+6+27+3\r\n",
        "fp1=8+2+3\r\n",
        "fn1=1+3+0"
      ],
      "execution_count": null,
      "outputs": []
    },
    {
      "cell_type": "code",
      "metadata": {
        "colab": {
          "base_uri": "https://localhost:8080/"
        },
        "id": "Z_OQp9-TWw31",
        "outputId": "e1593417-9d0a-408c-eb7e-ab68a73a6e4d"
      },
      "source": [
        "# precision and recall of class 1\r\n",
        "precision1=tp1/(tp1+fp1)\r\n",
        "print(precision1)\r\n",
        "recall1=tp1/(tp1+fn1)\r\n",
        "print(recall1)"
      ],
      "execution_count": null,
      "outputs": [
        {
          "output_type": "stream",
          "text": [
            "0.7111111111111111\n",
            "0.8888888888888888\n"
          ],
          "name": "stdout"
        }
      ]
    },
    {
      "cell_type": "markdown",
      "metadata": {
        "id": "4RIl4WGvW7iK"
      },
      "source": [
        "**Class 2**"
      ]
    },
    {
      "cell_type": "code",
      "metadata": {
        "id": "1han2Y8uW-gf"
      },
      "source": [
        "predicted\r\n",
        "               0   1   2   3\r\n",
        "          \r\n",
        "           0   33  8   4   4\r\n",
        "           \r\n",
        "           1   1   32  3   0\r\n",
        " actual          \r\n",
        "           2   3   2   29  6\r\n",
        "           \r\n",
        "           3   2   3   3   27"
      ],
      "execution_count": null,
      "outputs": []
    },
    {
      "cell_type": "code",
      "metadata": {
        "id": "jTsDIuzXXKvp"
      },
      "source": [
        "tp2=29\r\n",
        "tn2=33+8+4+1+32+0+2+3+27\r\n",
        "fp2=4+3+3\r\n",
        "fn2=3+2+6"
      ],
      "execution_count": null,
      "outputs": []
    },
    {
      "cell_type": "code",
      "metadata": {
        "colab": {
          "base_uri": "https://localhost:8080/"
        },
        "id": "vQYjHBpCXP5l",
        "outputId": "1ccdb2c1-5556-4132-a23b-297e99ec07cf"
      },
      "source": [
        "# precision and recall of class 2\r\n",
        "precision2=tp2/(tp2+fp2)\r\n",
        "print(precision2)\r\n",
        "recall2=tp2/(tp2+fn2)\r\n",
        "print(recall2)"
      ],
      "execution_count": null,
      "outputs": [
        {
          "output_type": "stream",
          "text": [
            "0.7435897435897436\n",
            "0.725\n"
          ],
          "name": "stdout"
        }
      ]
    },
    {
      "cell_type": "code",
      "metadata": {
        "id": "Mn0nsqnkXig_"
      },
      "source": [
        "tp3=27\r\n",
        "tn3=33+8+4+1+32+3+3+2+29\r\n",
        "fp3=4+0+6\r\n",
        "fn3=2+3+3"
      ],
      "execution_count": null,
      "outputs": []
    },
    {
      "cell_type": "code",
      "metadata": {
        "colab": {
          "base_uri": "https://localhost:8080/"
        },
        "id": "Qe4W-zQJXlah",
        "outputId": "c37a74fd-6928-4cc5-d71b-54e9dc20caf1"
      },
      "source": [
        "# precision and recall of class 3\r\n",
        "precision3=tp3/(tp3+fp3)\r\n",
        "print(precision3)\r\n",
        "recall3=tp3/(tp3+fn3)\r\n",
        "print(recall3)"
      ],
      "execution_count": null,
      "outputs": [
        {
          "output_type": "stream",
          "text": [
            "0.7297297297297297\n",
            "0.7714285714285715\n"
          ],
          "name": "stdout"
        }
      ]
    },
    {
      "cell_type": "code",
      "metadata": {
        "colab": {
          "base_uri": "https://localhost:8080/"
        },
        "id": "exQi-PVfXtQq",
        "outputId": "c3a92c51-0665-4a84-e114-08ba24e0622c"
      },
      "source": [
        "#Macro Average =  mean average precision/recall of all classes.\r\n",
        "\r\n",
        "macro_avg_precision=(precision0+precision1+precision2+precision3)/4\r\n",
        "macro_avg_precision"
      ],
      "execution_count": null,
      "outputs": [
        {
          "output_type": "execute_result",
          "data": {
            "text/plain": [
              "0.7576461076461076"
            ]
          },
          "metadata": {
            "tags": []
          },
          "execution_count": 40
        }
      ]
    },
    {
      "cell_type": "code",
      "metadata": {
        "colab": {
          "base_uri": "https://localhost:8080/"
        },
        "id": "hECqU5A2X5fi",
        "outputId": "c12bb8ca-7ac5-4146-a8c1-64e1b697fa8c"
      },
      "source": [
        "macro_avg_recall=(recall0+recall1+recall2+recall3)/4\r\n",
        "macro_avg_recall"
      ],
      "execution_count": null,
      "outputs": [
        {
          "output_type": "execute_result",
          "data": {
            "text/plain": [
              "0.7646967120181406"
            ]
          },
          "metadata": {
            "tags": []
          },
          "execution_count": 41
        }
      ]
    },
    {
      "cell_type": "code",
      "metadata": {
        "colab": {
          "base_uri": "https://localhost:8080/"
        },
        "id": "k1_iAI1qX87c",
        "outputId": "259f90c6-b2a5-4d1d-9519-16bdae6c8fa4"
      },
      "source": [
        "#Weighted_avg = The weights for each class are the total number of samples of that class\r\n",
        "weighted_avg_precision=(precision0*49+precision1*36+precision2*38+precision3*35)/(49+36+38+35)\r\n",
        "weighted_avg_precision"
      ],
      "execution_count": null,
      "outputs": [
        {
          "output_type": "execute_result",
          "data": {
            "text/plain": [
              "0.7649271472056283"
            ]
          },
          "metadata": {
            "tags": []
          },
          "execution_count": 42
        }
      ]
    },
    {
      "cell_type": "code",
      "metadata": {
        "colab": {
          "base_uri": "https://localhost:8080/"
        },
        "id": "KMYQlS5hYGs4",
        "outputId": "ea5ca3ec-4e20-4215-a469-651ed4c07b5b"
      },
      "source": [
        "weighted_avg_recall=(recall0*49+recall1*36+recall2*38+recall3*35)/(49+36+38+35)\r\n",
        "weighted_avg_recall"
      ],
      "execution_count": null,
      "outputs": [
        {
          "output_type": "execute_result",
          "data": {
            "text/plain": [
              "0.7566455696202532"
            ]
          },
          "metadata": {
            "tags": []
          },
          "execution_count": 43
        }
      ]
    },
    {
      "cell_type": "markdown",
      "metadata": {
        "id": "7oJ3u-u0YQav"
      },
      "source": [
        "F-1 Score \r\n",
        "\r\n",
        "2.d  "
      ]
    },
    {
      "cell_type": "code",
      "metadata": {
        "colab": {
          "base_uri": "https://localhost:8080/"
        },
        "id": "ea1_pSubYZZR",
        "outputId": "f1136a39-6961-41ba-ef39-53a641ff900b"
      },
      "source": [
        "class0_f1=2*(precision0*recall0)/(precision0+recall0)\r\n",
        "print(\"F1 for class 0\", class0_f1)\r\n",
        "\r\n",
        "class1_f1=2*(precision1*recall1)/(precision1+recall1)\r\n",
        "print(\"F1 for class 1\", class1_f1)\r\n",
        "\r\n",
        "class2_f1=2*(precision2*recall2)/(precision2+recall2)\r\n",
        "print(\"F1 for class 2\" ,class2_f1)\r\n",
        "\r\n",
        "class3_f1=2*(precision3*recall3)/(precision3+recall3)\r\n",
        "print(\"F1 for class 3\" ,class3_f1)"
      ],
      "execution_count": null,
      "outputs": [
        {
          "output_type": "stream",
          "text": [
            "F1 for class 0 0.75\n",
            "F1 for class 1 0.7901234567901234\n",
            "F1 for class 2 0.7341772151898733\n",
            "F1 for class 3 0.75\n"
          ],
          "name": "stdout"
        }
      ]
    },
    {
      "cell_type": "markdown",
      "metadata": {
        "id": "_RKlflrNZWwJ"
      },
      "source": [
        "2.e \r\n",
        "Type I and Type II error "
      ]
    },
    {
      "cell_type": "code",
      "metadata": {
        "colab": {
          "base_uri": "https://localhost:8080/"
        },
        "id": "tgfSFfcWZVvP",
        "outputId": "76b3d801-bf26-4642-9a50-425bfd087d68"
      },
      "source": [
        "class0_type_1=fp0/(fp0+tn0)\r\n",
        "print(\"class 0 type 1 error\", class0_type_1*100)\r\n",
        "class0_type_2=fn0/(fn0+tp0)\r\n",
        "print(\"class 0 type 2 error\", class0_type_2*100)\r\n",
        "\r\n",
        "class1_type_1=fp1/(fp1+tn1)\r\n",
        "print(\"Class 1 type 1 error\", class1_type_1*100)\r\n",
        "class1_type_2=fn1/(fn1+tp1)\r\n",
        "print(\"class 1 type 2 error\", class1_type_2*100)\r\n",
        "\r\n",
        "class2_type_1=fp2/(fp2+tn2)\r\n",
        "print(\"class 2 type 1 error\", class2_type_1*100)\r\n",
        "class2_type_2=fn2/(fn2+tp2)\r\n",
        "print(\"class 2 type 2 error\", class2_type_2*100)\r\n",
        "\r\n",
        "class3_type_1=fp3/(fp3+tn3)\r\n",
        "print(\"class 3 type 1 error\", class3_type_1*100)\r\n",
        "class3_type_2=fn3/(fn3+tp3)\r\n",
        "print(\"class 3 type 2 error\", class3_type_2*100)"
      ],
      "execution_count": null,
      "outputs": [
        {
          "output_type": "stream",
          "text": [
            "class 0 type 1 error 5.405405405405405\n",
            "class 0 type 2 error 32.6530612244898\n",
            "Class 1 type 1 error 10.483870967741936\n",
            "class 1 type 2 error 11.11111111111111\n",
            "class 2 type 1 error 8.333333333333332\n",
            "class 2 type 2 error 27.500000000000004\n",
            "class 3 type 1 error 8.0\n",
            "class 3 type 2 error 22.857142857142858\n"
          ],
          "name": "stdout"
        }
      ]
    },
    {
      "cell_type": "code",
      "metadata": {
        "colab": {
          "base_uri": "https://localhost:8080/"
        },
        "id": "K1Gr3ZZraPFN",
        "outputId": "d9ca1412-74e9-43d1-ff4f-e916c170276f"
      },
      "source": [
        "\r\n",
        "y_test = df['Actual Class']\r\n",
        "y_pred = df['Predicted Class']\r\n",
        "\r\n",
        "\r\n",
        "#importing confusion matrix\r\n",
        "from sklearn.metrics import confusion_matrix\r\n",
        "confusion = confusion_matrix(y_test, y_pred)\r\n",
        "print('Confusion Matrix\\n')\r\n",
        "print(confusion)\r\n",
        "\r\n",
        "#importing accuracy_score, precision_score, recall_score, f1_score\r\n",
        "from sklearn.metrics import accuracy_score, precision_score, recall_score, f1_score\r\n",
        "print('\\nAccuracy: {:.2f}\\n'.format(accuracy_score(y_test, y_pred)))\r\n",
        "\r\n",
        "\r\n",
        "print('Macro Precision: {:.2f}'.format(precision_score(y_test, y_pred, average='macro')))\r\n",
        "print('Macro Recall: {:.2f}'.format(recall_score(y_test, y_pred, average='macro')))\r\n",
        "print('Macro F1-score: {:.2f}\\n'.format(f1_score(y_test, y_pred, average='macro')))\r\n",
        "\r\n",
        "print('Weighted Precision: {:.2f}'.format(precision_score(y_test, y_pred, average='weighted')))\r\n",
        "print('Weighted Recall: {:.2f}'.format(recall_score(y_test, y_pred, average='weighted')))\r\n",
        "print('Weighted F1-score: {:.2f}'.format(f1_score(y_test, y_pred, average='weighted')))\r\n",
        "\r\n",
        "from sklearn.metrics import classification_report\r\n",
        "print('\\nClassification Report\\n')\r\n",
        "print(classification_report(y_test, y_pred, target_names=['Class 0','Class 1', 'Class 2', 'Class 3']))"
      ],
      "execution_count": null,
      "outputs": [
        {
          "output_type": "stream",
          "text": [
            "Confusion Matrix\n",
            "\n",
            "[[33  8  4  4]\n",
            " [ 1 32  3  0]\n",
            " [ 3  2 29  6]\n",
            " [ 2  3  3 27]]\n",
            "\n",
            "Accuracy: 0.76\n",
            "\n",
            "Macro Precision: 0.76\n",
            "Macro Recall: 0.76\n",
            "Macro F1-score: 0.76\n",
            "\n",
            "Weighted Precision: 0.76\n",
            "Weighted Recall: 0.76\n",
            "Weighted F1-score: 0.76\n",
            "\n",
            "Classification Report\n",
            "\n",
            "              precision    recall  f1-score   support\n",
            "\n",
            "     Class 0       0.85      0.67      0.75        49\n",
            "     Class 1       0.71      0.89      0.79        36\n",
            "     Class 2       0.74      0.72      0.73        40\n",
            "     Class 3       0.73      0.77      0.75        35\n",
            "\n",
            "    accuracy                           0.76       160\n",
            "   macro avg       0.76      0.76      0.76       160\n",
            "weighted avg       0.76      0.76      0.76       160\n",
            "\n"
          ],
          "name": "stdout"
        }
      ]
    },
    {
      "cell_type": "code",
      "metadata": {
        "id": "YO_ygAqmanKc"
      },
      "source": [
        "Comparison Report                                                 \r\n",
        "\r\n",
        "\r\n",
        "\r\n",
        "              precision_sklearn/standard   recall_sklearn/standard  f1-score_sklearn/standard    \r\n",
        "\r\n",
        "     Class 0       0.85/.85                          0.67/.67                      0.75/.75        \r\n",
        "     Class 1       0.71/.71                          0.89/.89                      0.79/.79        \r\n",
        "     Class 2       0.74/.74                         0.72/.72                      0.73/.73        \r\n",
        "     Class 3       0.73/.73                         0.77/.77                      0.75/.75         \r\n",
        "\r\n",
        "    accuracy                           0.76/.75        \r\n",
        "   macro avg       0.76/.76      0.76/.76      0.76/.76        \r\n",
        "weighted avg       0.76/.76      0.76/.76      0.76/.76"
      ],
      "execution_count": null,
      "outputs": []
    }
  ]
}